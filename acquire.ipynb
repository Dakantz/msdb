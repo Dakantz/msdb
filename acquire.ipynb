{
 "nbformat": 4,
 "nbformat_minor": 2,
 "metadata": {
  "language_info": {
   "name": "python",
   "codemirror_mode": {
    "name": "ipython",
    "version": 3
   },
   "version": "3.7.5-final"
  },
  "orig_nbformat": 2,
  "file_extension": ".py",
  "mimetype": "text/x-python",
  "name": "python",
  "npconvert_exporter": "python",
  "pygments_lexer": "ipython3",
  "version": 3,
  "kernelspec": {
   "name": "python37564bit1d1058b2517b4a62a1800f38d1fb51c5",
   "display_name": "Python 3.7.5 64-bit"
  }
 },
 "cells": [
  {
   "cell_type": "code",
   "execution_count": 2,
   "metadata": {},
   "outputs": [],
   "source": [
    "import requests, zipfile, io, shutil, math\n",
    "import re\n",
    "import xml.etree.ElementTree as ET\n",
    "from pyquery import PyQuery as pq\n",
    "import json\n",
    "\n",
    "import traceback"
   ]
  },
  {
   "cell_type": "code",
   "execution_count": 6,
   "metadata": {},
   "outputs": [
    {
     "name": "stdout",
     "output_type": "stream",
     "text": "he crowd.;\n          Curtis backs off.;\n;\n                          CURTIS (CONT'D);\n           Sleep well in your beds. Cause if;\n           this thing comes true, there ain't;\n           gonna be any more.;\n          Curtis looks down at Dewart.;\n          He turns to see Hannah. She's tucked under her Mother's leg;\n          crying. This hits him hard. He stops. Looking at Samantha,;\n          his eyes fill with tears.;\n;\n           82.;\n;\n                         ;\n          Samantha, leading Hannah by the hand, walks to Curtis. He;\n          stares at her, on the verge of breaking down.;\n          She takes her hand and gently pulls his head down to her;\n          shoulder. Without another look toward the crowd, Samantha;\n          leads her family out of the dining hall.;\n;\n                         ;\n;\n          EXT. LAFORCHE HOME - DAY;\n;\n          Hannah stands on a toolbox and rests her elbows on the side;\n          of Curtis' truck. The hood is open. She watches her father;\n          fiddle with re-installing the alternator. His fingers;\n          covered in grease.;\n          Hannah steps down from the toolbox and walks into the front;\n          yard. Curtis pauses, hearing a high-pitched, warbling SOUND;\n          in the distance. He notices Hannah is gone.;\n;\n                          CURTIS;\n           Hannah?;\n          He pulls his head out from the hood and sees Hannah standing;\n          on the curb. She looks down the street. He runs down his;\n          driveway, wiping his hands on a rag and watching the horizon.;\n;\n                          CURTIS (CONT'D);\n           Hannah!;\n          A FLOCK OF BIRDS, flying in intricate geometric patterns,;\n          swarm above the house at the end of the street. They twist;\n          and bend into speckled black shapes.;\n          Hannah, watching, walks into the street. Curtis catches her;\n          by the hand. He turns away from the birds to see a STORM;\n          CELL building on the opposite horizon. He scoops Hannah into;\n          his arms, stepping back from it.;\n          The SOUND of the birds grows louder. Curtis pivots to find;\n          the mass of birds barreling down the street toward him. He;\n          turns away as the wall of birds crash past him. The force so;\n          powerful it knocks him backward.;\n          He covers Hannah's head, dodging the onslaught of wind and;\n          wings. The Flock passes. Curtis stands, his face cut and;\n          scraped. Hannah cries, clinging to his chest.;\n;\n          SMASH!;\n          The windshield of a car parked next to him SHATTERS. Curtis;\n          looks at the broken glass. A dead bird, it's neck broken,;\n          rests crumpled on the hood.;\n;\n          SMACK!;\n;\n           83.;\n;\n                         ;\n          Another bird crashes into the asphalt just in front of him.;\n          Then another. Curtis looks up. The Flock of birds are;\n          circling overhead and diving down at him.;\n          More birds crashing to the ground. Curtis covers his head.;\n          The neighborhood's tornado SIRENS begin to sound.;\n          Curtis rushes Hannah toward his front door as dozens of birds;\n          plummet from the sky. The sirens BLARING.;\n;\n                         ;\n;\n          INT. BEDROOM - NIGHT;\n;\n          Curtis wakes to Samantha shaking him by the shoulders. She's;\n          nearly on top of him in the bed.;\n;\n                          SAMANTHA;\n           Curtis! Wake up! Wake up!;\n          TORNADO SIRENS continue to scream throughout the;\n          neighborhood.;\n          Curtis looks to the window. Rain and hail are battering the;\n          house. He jumps to his feet and grabs Samantha by the arm.;\n          They rush out of the room.;\n;\n                         ;\n;\n          INT. HANNAH'S BEDROOM - NIGHT;\n;\n          Curtis bursts into the room. Hannah is standing at the;\n          window looking out. Curtis scoops her up, scaring her. She;\n          begins to cry as they run from the room.;\n;\n                         ;\n;\n          EXT. LAFORCHE BACKYARD - NIGHT;\n;\n          Wind blows fiercely as pellets of hail bounce off the ground.;\n          Rain cuts at a sharp angle. The Tornado Sirens continue.;\n          Curtis, Hannah in his arms and Samantha close behind, exits;\n          the back of the house and heads to the storm shelter. He;\n          passes Hannah to Samantha and fumbles with the padlock keys.;\n          At the doors to the shelter, Samantha holds her robe up to;\n          shield Hannah from the hail. Curtis gets the lock and opens;\n          the door. They go inside.;\n;\n                         ;\n;\n          INT. STORM SHELTER - CONTINUOUS;\n;\n          Curtis slams the doors behind them. It's pitch black until;\n          he gets to the switch on the lantern. The room fills with;\n          the orange glow as Curtis snaps the padlock through the door;\n          handles.;\n;\n           84.;\n;\n                         ;\n;\n                          CURTIS;\n           Come on. It's okay.;\n          Curtis leads them through the entry to the larger section of;\n          the shelter. Samantha takes Hannah and sits with her on one;\n          of the cots. She's signing to her, trying to calm her down.;\n;\n                          CURTIS (CONT'D);\n           It's okay. All right. Come on. Sit;\n           down.;\n          Curtis goes to a trunk in the corner and begins rooting;\n          through it. He removes two gas masks and an oxygen mask;\n          connected to a small tank.;\n          He goes over and kneels in front of Hannah. He tries;\n          slipping the oxygen mask over her face. Samantha grabs his;\n          wrist.;\n;\n                          SAMANTHA;\n           No. Don't do that.;\n;\n                          CURTIS;\n           It's okay. It's oxygen. Here. Put;\n           this on.;\n          Curtis hands Samantha a gas mask.;\n;\n                          SAMANTHA;\n           Are you kidding?;\n;\n                          CURTIS;\n           Please just do it. Okay?;\n          He looks to Hannah and places an oxygen mask over her face..;\n;\n                          CURTIS (CONT'D);\n           There we go. All right. Keep it out;\n           of your eyes. Okay?;\n          He signs to her.;\n;\n                          CURTIS (CONT'D);\n           Hey. I love you. It's okay.;\n          Curtis eases on the knob at the top of the tank.;\n          He climbs onto the cot and puts his arm around them. He;\n          slips on his gas mask.;\n          Samantha is hesitant. She looks at her husband in the mask;\n          and leans back against the side of the container. Hannah;\n          looks up at her. She touches her mother's mask.;\n          Samantha slips on the gas mask.;\n;\n           85.;\n;\n                         ;\n          The camping lantern on the floor casts long shadows up. The;\n          faint boom of thunder rolls softly outside.;\n          The family sits huddled together on the cot, wearing their;\n          masks.;\n;\n                         ;\n;\n          INT. STORM SHELTER - LATER;\n;\n          A CRACK of thunder rattles the shelter. Curtis snaps awake,;\n          still wearing his gas mask.;\n          Samantha has climbed on the other cot and is asleep. Hannah;\n          sleeps under Curtis' arm. He gently lays her down on the cot;\n          and stands to stretch.;\n          He walks into the original section of the shelter and grabs a;\n          small flashlight off the metal shelving. He clicks it on and;\n          moves over to the concrete steps.;\n          He takes a seat and listens. He places his hand onto the;\n          metal door. A BOOM of thunder.;\n          He can hear the rain and wind blowing outside.;\n;\n                         ;\n;\n          INT. STORM SHELTER - LATER;\n;\n          Samantha rubs Curtis' shoulder, gently waking him.;\n;\n                          SAMANTHA;\n           Wake up babe.;\n          Curtis' head moves. He sees that Samantha and Hannah have;\n          removed their masks.;\n;\n                          CURTIS;\n           Where's your mask?;\n;\n                          SAMANTHA;\n           We took them off. It's fine. Take;\n           it off.;\n;\n                          CURTIS;\n           No.;\n          Curtis hesitates.;\n;\n                          SAMANTHA;\n           We're fine. Take it off.;\n          Curtis slips the mask off his face. Worried, he takes a;\n          breath.;\n;\n                          SAMANTHA (CONT'D);\n           You need to open the door now.;\n;\n           86.;\n;\n                         ;\n          Curtis doesn't move. He looks at them.;\n;\n                          CURTIS;\n;\n                          (MUMBLES);\n           What if it's...What if it's not;\n           over?;\n;\n                          SAMANTHA;\n           What?;\n;\n                          CURTIS;\n           What if it's not over?;\n;\n                          SAMANTHA;\n           It's over. Get the keys. Open the;\n           door.;\n          Curtis slowly gets to his feet. He sees the dark entryway to;\n          the original section of the shelter. Taking the lantern, he;\n          walks to it.;\n          Samantha and Hannah follow.;\n          Curtis stops just inside. He holds the lantern up,;\n          illuminating the padlocked metal doors.;\n          He looks back at his family, then climbs the steps. He;\n          places his hand on the door. He flinches.;\n;\n                          CURTIS;\n           It's still storming.;\n;\n                          SAMANTHA;\n           No. It's not.;\n;\n                          CURTIS;\n           I can hear it.;\n          Samantha stares at him. The room is silent.;\n;\n                          SAMANTHA;\n           I don't hear anything.;\n;\n                          CURTIS;\n           Put your hand on the door. You can;\n           feel it.;\n          He takes Samantha's wrist and guides her to the doors. He;\n          watches her face as she places a hand against the metal. She;\n          looks at him, her eyes getting red, and shakes her head \"no\".;\n          Curtis kneels in front of Hannah and mimics the signs from;\n          earlier.;\n;\n                          CURTIS (CONT'D);\n           (signing and speaking);\n           Thunder? Do you feel it?;\n;\n           87.;\n;\n                         ;\n          He flinches again. Looks to the ceiling;\n;\n                          CURTIS (CONT'D);\n           (signing and speaking);\n           You feel it? You feel it?;\n          Hannah walks to her mother. Samantha holds onto her.;\n          Curtis steps back from them. They watch him, their backs to;\n          the doors. He flinches and covers his mouth.;\n;\n                          CURTIS (CONT'D);\n           I'm sorry.;\n;\n                          SAMANTHA;\n           Baby, there's no storm outside.;\n;\n                          CURTIS;\n           I'm sorry.;\n          Samantha walks over to him.;\n;\n                          SAMANTHA;\n           Curtis. I wouldn't lie to you. We;\n           love you very much. Please open;\n           the door.;\n          Curtis is on the verge of tears.;\n          He slowly reaches into his jeans pocket. He removes the;\n          keys. He holds them out to Samantha.;\n;\n                          CURTIS;\n           I'm sorry. I can't.;\n          Samantha looks at the keys, then at Curtis. Tears shake from;\n          his trembling face.;\n;\n                          SAMANTHA;\n           I love you, but if I open the door,;\n           then nothin's gonna change. You'll;\n           see that everything's fine, but;\n           nothing will change. Please. This;\n           is what it means to stay with us.;\n           This is something you have to do.;\n          He looks at Hannah, then Samantha. Curtis steadies himself,;\n          trying to control his flinching. He wipes his face with the;\n          back of his hands and takes a deep breath.;\n          Curtis walks toward the doors. On the steps, he reaches up;\n          to the padlock. The keys shake in his fingers. He turns to;\n          Samantha.;\n;\n                          CURTIS;\n           Could you move Hannah back?;\n;\n           88.;\n;\n                         ;\n          Samantha picks Hannah up in her arms and Curtis watches them;\n          retreat to the rear wall.;\n          He goes back to the lock. He inserts the key. The padlock;\n          pops open. Curtis removes it. He looks back at Samantha,;\n          then flings open the doors.;\n;\n          SUNLIGHT.;\n          It's blinding. Curtis holds his hand up to cover his eyes.;\n          He stares up at a crystal blue sky. Samantha watches as;\n          Curtis steps out of the shelter.;\n;\n                         ;\n;\n          EXT. LAFORCHE BACKYARD - CONTINUOUS;\n;\n          Curtis rises through the storm shelter's entryway. Out of;\n          the corner of his eye he catches,;\n;\n          A MAN PASSING BY.;\n          Curtis is startled. He turns to see a CREW of MEN from the;\n          power company hoisting a ladder onto the pole at the corner;\n          of the house. A power line dangles overhead.;\n          He turns to see NEIGHBORS in their yards clearing debris.;\n          Leaves and branches clutter the ground. The aftermath of a;\n          storm.;\n          Samantha steps out of the shelter holding Hannah. She;\n          surveys the damage.;\n;\n                          CURTIS;\n           It's fine.;\n          She walks over to Curtis and hugs him. He kisses Samantha on;\n          the head. Curtis looks up at the sky.;\n;\n                         ;\n;\n          INT. PSYCHIATRIST OFFICE - DAY;\n;\n          Curtis sits with Samantha in the plush office of a;\n          PSYCHIATRIST(56). Curtis rubs his hand over the soft leather;\n          upholstery on the couch.;\n;\n                          PSYCHIATRIST;\n           Do you have any vacation time that;\n           you could use?;\n;\n                          CURTIS;\n           I don't have a job right now.;\n;\n                          PSYCHIATRIST;\n           Well, I know that times are hard,;\n           but I think it's really important;\n           for you to separate yourself from;\n           that storm shelter.;\n;\n                          (MORE);\n;\n           89.;\n;\n                         ;\n;\n                          PSYCHIATRIST (CONT'D);\n           I think you need to break away from;\n           it for awhile. We can start you on;\n           some medication that I think will;\n           help, but that action alone would;\n           mean a lot.;\n;\n                          SAMANTHA;\n           We usually go on a trip to Myrtle;\n           Beach every summer. We were gonns;\n           go this month.;\n;\n                          PSYCHIATRIST;\n           I think that would be okay if we;\n           start the medication now. It would;\n           give you all some time to prepare;\n           as a family, but I want to be;\n           clear, when Curtis gets back he'll;\n           need to take more time than that.;\n;\n                          SAMANTHA;\n           What does that mean?;\n;\n                          PSYCHIATRIST;\n           I mean that he'll need hands on;\n           therapy at a real facility.;\n          Curtis looks up for the first time.;\n;\n                          CURTIS;\n           You mean I have to leave my family.;\n;\n                          PSYCHIATRIST;\n           I think you need to seriously;\n           commit to some treatment.;\n          Curtis processes this. Samantha takes his hand.;\n;\n                         ;\n;\n          EXT. BEACH/CONDO - DAY;\n;\n          Curtis scoops handfuls of sand out of a foot deep hole on the;\n          beach. He slops the wet mixture into a castle shaped bucket,;\n          his back to the shoreline of gentle, breaking waves.;\n;\n                          CURTIS;\n           (signing and speaking);\n           Hey. Good, huh?;\n          Hannah sits on her knees in front of Curtis sprinkling dry;\n          sand over castle shaped mounds already formed.;\n;\n                         ;\n;\n          INT. CONDO - DAY;\n;\n          Samantha drops four hotdogs into a boiling pot of water and;\n          stirs a bubbling pot of canned chili.;\n;\n           90.;\n;\n                         ;\n          The beach condo is small, but brightly furnished.;\n;\n                         ;\n;\n          EXT. CONDO/BEACH - DAY;\n;\n          The wooden deck hangs off the back of the beach condo. A;\n          picnic table is set with plastic place mats and forks. WIND;\n          lifts the corner of a stack of napkins. The wind blows;\n          harder, fanning the napkins off the table.;\n;\n          ON THE BEACH,;\n          Curtis, still working in the sand, puts a top on the sand;\n          castle.;\n;\n                          CURTIS;\n           Good. We put a top on it.;\n          Curtis smooths out the sand in the castle shaped bucket and;\n          turns it over to top off their sand mound. He hands the;\n          bucket over for Hannah to refill.;\n          The SOUND of the waves behind them has STOPPED. They don't;\n          notice.;\n          Curtis takes two fingers and digs a small trench around the;\n          sand castle.;\n;\n                         ;\n          Curtis looks up ready to sign the letters but sees Hannah;\n          staring at the water. She looks at him and signs something;\n          with her hands.;\n;\n                          CURTIS (CONT'D);\n           What is it honey?;\n          Curtis misses it. He shakes his head, \"no\", and Hannah signs;\n          again, slowly: \"S-T-O-R-M\".;\n;\n                          CURTIS (CONT'D);\n           What?;\n          Curtis turns to the shoreline, getting to his feet.;\n          He looks down at Hannah, who watches, mesmerized. Scared,;\n          she looks to her father. He grabs her under the arms and;\n          rests her on his hip. She buries her head into his chest.;\n;\n          AT THE CONDO,;\n          A gust of wind greets Samantha as she walks out onto the deck;\n          holding a plate of hotdogs and a bowl of chili. She stops,;\n          seeing the horizon. Her mouth falls open.;\n          She slowly sets the plate and bowl down on the table, her;\n          mind racing. She looks down at Curtis in disbelief.;\n;\n           91.;\n;\n                         ;\n          Curtis looks up to the Condo and makes eye contact. He;\n          studies her face.;\n          Samantha looks at her husband, trying to process it all. She;\n          looks out at the horizon then back down to Curtis. Concern;\n          on her face, she nods to him.;\n          Curtis sees her nod.;\n          Samantha's eyes, still locked on Curtis, soften, as if to;\n          apologize. After a moment, she mouths to him, \"I love you.\";\n          Curtis nods back to her.;\n          She looks back up to the shoreline.;\n;\n          ON THE BEACH,;\n          Curtis' feet kick up sand as he rushes back toward the condo.;\n;\n          AT THE CONDO,;\n          Samantha hasn't moved from the porch. A light rain begins to;\n          fall. Her hands grip the railing. She turns her left palm;\n          up. Dark rain collects there.;\n;\n          ON THE HORIZON IN FRONT OF HER,;\n;\n          THE WATER HAS RECEDED INTO THE GULF SOME 100 YARDS. THE DARK;\n;\n          SANDY BOTTOM LOOKS ODD STRETCHED OUT SO FAR. A STORM CELL;\n;\n          SITS MASSED ON THE HORIZON. CHURNING BLACK CLOUDS FILLED;\n;\n          WITH LAYERS OF HORIZONTAL LIGHTNING.;\n          Behind Samantha, Curtis appears in the open sliding door;\n          clutching Hannah. The Storm Cell is reflected in the glass;\n          next to him.;\n;\n                          CURTIS (CONT'D);\n           Sam.;\n          Samantha looks down at her palm. She rubs the thick, viscous;\n          rain in her fingers. She looks back up at the storm.;\n          On Samantha's face,;\n;\n                          SAMANTHA;\n           Okay.;\n;\n           THE END.;\n;\n                          ;\n;\n\nWritten Take-Shelter\n"
    }
   ],
   "source": [
    "#https://www.imsdb.com/feeds/alphabetical.php?letter=A\n",
    "\n",
    "#rss->channel->items->item->link\n",
    "start=65\n",
    "for c in range(26+65-start):\n",
    "    r = requests.get('https://www.imsdb.com/feeds/alphabetical.php?letter={letter}'.format(letter=chr(start+c)))\n",
    "    links=[]\n",
    "    root = ET.fromstring(r.text)\n",
    "    for item in root[0].iter('link'):\n",
    "        link=item.text\n",
    "        print(item.text)\n",
    "        links.append(link)\n",
    "    links.remove(\"http://www.imsdb.com\")\n",
    "    for link in links:\n",
    "        try:\n",
    "            r_script = requests.get(link)\n",
    "            d = pq(r_script.text)\n",
    "            pre=d(\"pre\")\n",
    "            pre_html=pre.html()\n",
    "            if pre_html:\n",
    "                #good ones\n",
    "                genres=[]\n",
    "                for a_elem in d(\"a\"):\n",
    "                    title=a_elem.get(\"title\")\n",
    "                    if title and re.match(\".* Scripts\",title):\n",
    "                        genres.append(a_elem.text)\n",
    "                print(genres)\n",
    "                script=re.sub(r\"<(|/)b>\",r\"\",pre_html,flags=re.S)\n",
    "                script=re.sub(r\"&#13\",r\"\",script,flags=re.S)\n",
    "                print(script)\n",
    "                title=re.sub(r\"\\.html\",\"\",re.sub(r\"http://.*/\",\"\",link))\n",
    "                with open('./data/{title}.json'.format(title=title),\"w\") as outfile:\n",
    "                    json.dump({\"link\":link,\"script\":script,\"genres\":genres,\"title\":title}, outfile, sort_keys=True, indent=4)\n",
    "                print(\"Written\",title)\n",
    "                break\n",
    "            else:\n",
    "                continue\n",
    "        except:\n",
    "            print(\"Error on loading, skipping...\",link, traceback.format_exc())"
   ]
  },
  {
   "cell_type": "code",
   "execution_count": null,
   "metadata": {},
   "outputs": [],
   "source": [
    "re.sub(r\"\\.html\",\"\",re.sub(r\"http://.*/\",\"\",link))"
   ]
  },
  {
   "cell_type": "code",
   "execution_count": null,
   "metadata": {},
   "outputs": [],
   "source": [
    "for link in links:\n",
    "\n",
    "\n",
    "    r_script = requests.get(link)\n",
    "    d = pq(r_script.text)\n",
    "    pre=d(\"pre\")\n",
    "    pre_html=pre.html()\n",
    "    if pre_html:\n",
    "        #good ones\n",
    "        genres=[]\n",
    "        for a_elem in d(\"a\"):\n",
    "            title=a_elem.get(\"title\")\n",
    "            if title and re.match(\".* Scripts\",title):\n",
    "                genres.append(a_elem.text)\n",
    "        print(genres)\n",
    "        script=re.sub(r\"<(|/)b>\",r\"\",pre_html,flags=re.S)\n",
    "        with open('./data/test.json',\"w\") as outfile:\n",
    "            json.dump({\"link\":link,\"script\":script,\"genres\":genres}, outfile, sort_keys=True, indent=4)\n",
    "    else:\n",
    "        continue"
   ]
  },
  {
   "cell_type": "code",
   "execution_count": null,
   "metadata": {},
   "outputs": [],
   "source": [
    "\n",
    "print(script)"
   ]
  },
  {
   "cell_type": "code",
   "execution_count": null,
   "metadata": {},
   "outputs": [],
   "source": [
    "with open('./data/test.json',\"w\") as outfile:\n",
    "    json.dump({\"link\":link,\"script\":script,\"genres\":genres}, outfile, sort_keys=True, indent=4)\n",
    "            "
   ]
  },
  {
   "cell_type": "code",
   "execution_count": null,
   "metadata": {},
   "outputs": [],
   "source": []
  }
 ]
}