{
 "nbformat": 4,
 "nbformat_minor": 2,
 "metadata": {
  "language_info": {
   "name": "python",
   "codemirror_mode": {
    "name": "ipython",
    "version": 3
   },
   "version": "3.7.5-final"
  },
  "orig_nbformat": 2,
  "file_extension": ".py",
  "mimetype": "text/x-python",
  "name": "python",
  "npconvert_exporter": "python",
  "pygments_lexer": "ipython3",
  "version": 3,
  "kernelspec": {
   "name": "python37564bit1d1058b2517b4a62a1800f38d1fb51c5",
   "display_name": "Python 3.7.5 64-bit"
  }
 },
 "cells": [
  {
   "cell_type": "code",
   "execution_count": null,
   "metadata": {},
   "outputs": [],
   "source": [
    "import requests, zipfile, io, shutil, math\n",
    "import re\n",
    "import xml.etree.ElementTree as ET\n",
    "from pyquery import PyQuery as pq\n",
    "import json\n",
    "\n",
    "import traceback"
   ]
  },
  {
   "cell_type": "code",
   "execution_count": null,
   "metadata": {},
   "outputs": [],
   "source": [
    "#https://www.imsdb.com/feeds/alphabetical.php?letter=A\n",
    "\n",
    "#rss->channel->items->item->link\n",
    "start=65\n",
    "for c in range(26+65-start):\n",
    "    r = requests.get('https://www.imsdb.com/feeds/alphabetical.php?letter={letter}'.format(letter=chr(start+c)))\n",
    "    links=[]\n",
    "    root = ET.fromstring(r.text)\n",
    "    for item in root[0].iter('link'):\n",
    "        link=item.text\n",
    "        print(item.text)\n",
    "        links.append(link)\n",
    "    links.remove(\"http://www.imsdb.com\")\n",
    "    for link in links:\n",
    "        try:\n",
    "            r_script = requests.get(link)\n",
    "            d = pq(r_script.text)\n",
    "            pre=d(\"pre\")\n",
    "            pre_html=pre.html()\n",
    "            if pre_html:\n",
    "                #good ones\n",
    "                genres=[]\n",
    "                for a_elem in d(\"a\"):\n",
    "                    title=a_elem.get(\"title\")\n",
    "                    if title and re.match(\".* Scripts\",title):\n",
    "                        genres.append(a_elem.text)\n",
    "                print(genres)\n",
    "                script=re.sub(r\"<(|/)b>\",r\"\",pre_html,flags=re.S)\n",
    "                script=re.sub(r\"&#13\",r\"\",script,flags=re.S)\n",
    "                title=re.sub(r\"\\.html\",\"\",re.sub(r\"http://.*/\",\"\",link))\n",
    "                with open('./data/{title}.json'.format(title=title),\"w\") as outfile:\n",
    "                    json.dump({\"link\":link,\"script\":script,\"genres\":genres,\"title\":title}, outfile, sort_keys=True, indent=4)\n",
    "                print(\"Written\",title)\n",
    "                break\n",
    "            else:\n",
    "                continue\n",
    "        except:\n",
    "            print(\"Error on loading, skipping...\",link, traceback.format_exc())"
   ]
  }
 ]
}